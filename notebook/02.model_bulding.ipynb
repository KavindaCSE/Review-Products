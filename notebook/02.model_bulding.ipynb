{
 "cells": [
  {
   "cell_type": "code",
   "execution_count": 14,
   "id": "04d92cf0-a957-44b4-83ff-8fd6407ec5ec",
   "metadata": {},
   "outputs": [],
   "source": [
    "import numpy as np\n",
    "import pandas as pd\n",
    "import matplotlib.pyplot as plt"
   ]
  },
  {
   "cell_type": "code",
   "execution_count": 15,
   "id": "e3e74dbf-8031-4b67-9a65-0ba986d3ee28",
   "metadata": {},
   "outputs": [],
   "source": [
    "data = pd.read_csv(\"../artifact/sentiment_analysis.csv\")"
   ]
  },
  {
   "cell_type": "code",
   "execution_count": 16,
   "id": "5fb982ed-8924-42b4-9fd5-f30bdc799ec1",
   "metadata": {},
   "outputs": [
    {
     "data": {
      "text/html": [
       "<div>\n",
       "<style scoped>\n",
       "    .dataframe tbody tr th:only-of-type {\n",
       "        vertical-align: middle;\n",
       "    }\n",
       "\n",
       "    .dataframe tbody tr th {\n",
       "        vertical-align: top;\n",
       "    }\n",
       "\n",
       "    .dataframe thead th {\n",
       "        text-align: right;\n",
       "    }\n",
       "</style>\n",
       "<table border=\"1\" class=\"dataframe\">\n",
       "  <thead>\n",
       "    <tr style=\"text-align: right;\">\n",
       "      <th></th>\n",
       "      <th>id</th>\n",
       "      <th>label</th>\n",
       "      <th>tweet</th>\n",
       "    </tr>\n",
       "  </thead>\n",
       "  <tbody>\n",
       "    <tr>\n",
       "      <th>0</th>\n",
       "      <td>1</td>\n",
       "      <td>0</td>\n",
       "      <td>#fingerprint #Pregnancy Test https://goo.gl/h1...</td>\n",
       "    </tr>\n",
       "    <tr>\n",
       "      <th>1</th>\n",
       "      <td>2</td>\n",
       "      <td>0</td>\n",
       "      <td>Finally a transparant silicon case ^^ Thanks t...</td>\n",
       "    </tr>\n",
       "    <tr>\n",
       "      <th>2</th>\n",
       "      <td>3</td>\n",
       "      <td>0</td>\n",
       "      <td>We love this! Would you go? #talk #makememorie...</td>\n",
       "    </tr>\n",
       "    <tr>\n",
       "      <th>3</th>\n",
       "      <td>4</td>\n",
       "      <td>0</td>\n",
       "      <td>I'm wired I know I'm George I was made that wa...</td>\n",
       "    </tr>\n",
       "    <tr>\n",
       "      <th>4</th>\n",
       "      <td>5</td>\n",
       "      <td>1</td>\n",
       "      <td>What amazing service! Apple won't even talk to...</td>\n",
       "    </tr>\n",
       "  </tbody>\n",
       "</table>\n",
       "</div>"
      ],
      "text/plain": [
       "   id  label                                              tweet\n",
       "0   1      0  #fingerprint #Pregnancy Test https://goo.gl/h1...\n",
       "1   2      0  Finally a transparant silicon case ^^ Thanks t...\n",
       "2   3      0  We love this! Would you go? #talk #makememorie...\n",
       "3   4      0  I'm wired I know I'm George I was made that wa...\n",
       "4   5      1  What amazing service! Apple won't even talk to..."
      ]
     },
     "execution_count": 16,
     "metadata": {},
     "output_type": "execute_result"
    }
   ],
   "source": [
    "data.head()"
   ]
  },
  {
   "cell_type": "markdown",
   "id": "aa231e9a-000f-4d93-969a-860fe494664e",
   "metadata": {},
   "source": [
    "## Data Preprocessing"
   ]
  },
  {
   "cell_type": "code",
   "execution_count": 17,
   "id": "0f2138b9-e02f-4c2d-9f6e-a96448d5059f",
   "metadata": {},
   "outputs": [
    {
     "data": {
      "text/plain": [
       "(7920, 3)"
      ]
     },
     "execution_count": 17,
     "metadata": {},
     "output_type": "execute_result"
    }
   ],
   "source": [
    "data.shape"
   ]
  },
  {
   "cell_type": "code",
   "execution_count": 18,
   "id": "58bfffc2-482b-4fc7-9001-f81869f704b2",
   "metadata": {},
   "outputs": [
    {
     "data": {
      "text/plain": [
       "np.int64(0)"
      ]
     },
     "execution_count": 18,
     "metadata": {},
     "output_type": "execute_result"
    }
   ],
   "source": [
    "data.duplicated().sum()"
   ]
  },
  {
   "cell_type": "code",
   "execution_count": 19,
   "id": "425115f9-6660-4299-992c-d1f688774e5d",
   "metadata": {},
   "outputs": [
    {
     "data": {
      "text/plain": [
       "id       0\n",
       "label    0\n",
       "tweet    0\n",
       "dtype: int64"
      ]
     },
     "execution_count": 19,
     "metadata": {},
     "output_type": "execute_result"
    }
   ],
   "source": [
    "data.isnull().sum()"
   ]
  },
  {
   "cell_type": "markdown",
   "id": "aebaff1a-3ee5-4fd6-857c-a40e5261cbb4",
   "metadata": {},
   "source": [
    "### Text Preprocessing"
   ]
  },
  {
   "cell_type": "code",
   "execution_count": 20,
   "id": "777f7e02-9a07-4235-92f0-bccfde890ef3",
   "metadata": {},
   "outputs": [],
   "source": [
    "import re\n",
    "import string"
   ]
  },
  {
   "cell_type": "raw",
   "id": "8629eae5-280c-4df8-b3f9-e5ea3fccc4b3",
   "metadata": {},
   "source": [
    "Convert lower upper case into lower case"
   ]
  },
  {
   "cell_type": "code",
   "execution_count": 21,
   "id": "b59b224a-62a0-4eb9-9afd-aeecc1f32baa",
   "metadata": {},
   "outputs": [
    {
     "data": {
      "text/plain": [
       "0    #fingerprint #Pregnancy Test https://goo.gl/h1...\n",
       "1    Finally a transparant silicon case ^^ Thanks t...\n",
       "2    We love this! Would you go? #talk #makememorie...\n",
       "3    I'm wired I know I'm George I was made that wa...\n",
       "4    What amazing service! Apple won't even talk to...\n",
       "5    iPhone software update fucked up my phone big ...\n",
       "6    Happy for us .. #instapic #instadaily #us #son...\n",
       "7    New Type C charger cable #UK http://www.ebay.c...\n",
       "8    Bout to go shopping again listening to music #...\n",
       "9    Photo: #fun #selfie #pool #water #sony #camera...\n",
       "Name: tweet, dtype: object"
      ]
     },
     "execution_count": 21,
     "metadata": {},
     "output_type": "execute_result"
    }
   ],
   "source": [
    "data[\"tweet\"].head(10)"
   ]
  },
  {
   "cell_type": "code",
   "execution_count": 22,
   "id": "d63c8b16-9a64-4841-bac4-0bb8c3a3af62",
   "metadata": {},
   "outputs": [],
   "source": [
    "data[\"tweet\"] = data[\"tweet\"].apply(lambda x:\" \".join(x.lower() for x in x.split()))"
   ]
  },
  {
   "cell_type": "code",
   "execution_count": 23,
   "id": "c7b0fe51-4f8e-490c-860e-43a743adcf5f",
   "metadata": {},
   "outputs": [
    {
     "data": {
      "text/plain": [
       "0    #fingerprint #pregnancy test https://goo.gl/h1...\n",
       "1    finally a transparant silicon case ^^ thanks t...\n",
       "2    we love this! would you go? #talk #makememorie...\n",
       "3    i'm wired i know i'm george i was made that wa...\n",
       "4    what amazing service! apple won't even talk to...\n",
       "5    iphone software update fucked up my phone big ...\n",
       "6    happy for us .. #instapic #instadaily #us #son...\n",
       "7    new type c charger cable #uk http://www.ebay.c...\n",
       "8    bout to go shopping again listening to music #...\n",
       "9    photo: #fun #selfie #pool #water #sony #camera...\n",
       "Name: tweet, dtype: object"
      ]
     },
     "execution_count": 23,
     "metadata": {},
     "output_type": "execute_result"
    }
   ],
   "source": [
    "data[\"tweet\"].head(10)"
   ]
  },
  {
   "cell_type": "raw",
   "id": "2e7d4b49-2dc9-4d3c-9392-f80eac1ab51d",
   "metadata": {},
   "source": [
    "Remove links"
   ]
  },
  {
   "cell_type": "code",
   "execution_count": 24,
   "id": "cb200677-0e5f-4d72-810a-e5a50ae2f875",
   "metadata": {},
   "outputs": [],
   "source": [
    "data[\"tweet\"] = data[\"tweet\"].apply(lambda x:\" \".join(re.sub(r'^https?:\\/\\/.*[\\r\\n]*','',x,flags=re.MULTILINE) for x in x.split()))"
   ]
  },
  {
   "cell_type": "code",
   "execution_count": 25,
   "id": "fbfe71ed-fda2-49ad-ac2b-c1600ae226a7",
   "metadata": {},
   "outputs": [
    {
     "data": {
      "text/plain": [
       "0    #fingerprint #pregnancy test  #android #apps #...\n",
       "1    finally a transparant silicon case ^^ thanks t...\n",
       "2    we love this! would you go? #talk #makememorie...\n",
       "3    i'm wired i know i'm george i was made that wa...\n",
       "4    what amazing service! apple won't even talk to...\n",
       "5    iphone software update fucked up my phone big ...\n",
       "6    happy for us .. #instapic #instadaily #us #son...\n",
       "7    new type c charger cable #uk  … #bay #amazon #...\n",
       "8    bout to go shopping again listening to music #...\n",
       "9    photo: #fun #selfie #pool #water #sony #camera...\n",
       "Name: tweet, dtype: object"
      ]
     },
     "execution_count": 25,
     "metadata": {},
     "output_type": "execute_result"
    }
   ],
   "source": [
    "data[\"tweet\"].head(10)"
   ]
  },
  {
   "cell_type": "code",
   "execution_count": 26,
   "id": "5101b112-1341-4183-aba0-eabc1e5df4fa",
   "metadata": {},
   "outputs": [],
   "source": [
    "def removePunctuations(text):\n",
    "    for punctuation in string.punctuation:\n",
    "        text = text.replace(punctuation,'')\n",
    "    return text    "
   ]
  },
  {
   "cell_type": "code",
   "execution_count": 29,
   "id": "ed23839e-ca12-43b9-b4ae-cfecc174bf47",
   "metadata": {},
   "outputs": [],
   "source": [
    "data[\"tweet\"] = data[\"tweet\"].apply(removePunctuations)"
   ]
  },
  {
   "cell_type": "raw",
   "id": "cfb111cb-1dd4-4b7e-a1a1-23c0ec5a7205",
   "metadata": {},
   "source": [
    "Remove digits"
   ]
  },
  {
   "cell_type": "code",
   "execution_count": 32,
   "id": "8cf3f4e9-7b9d-41d7-97bf-350c349ab1f4",
   "metadata": {},
   "outputs": [],
   "source": [
    "data[\"tweet\"] = data[\"tweet\"].str.replace(r'\\d+','',regex=True)"
   ]
  },
  {
   "cell_type": "code",
   "execution_count": 33,
   "id": "1aa5e146-9679-4fd1-886c-22a406acbd5d",
   "metadata": {},
   "outputs": [
    {
     "data": {
      "text/plain": [
       "7915    live out loud lol liveoutloud selfie smile son...\n",
       "7916    we would like to wish you an amazing day make ...\n",
       "7917    helping my lovely  year old neighbor with her ...\n",
       "7918    finally got my smart pocket wifi stay connecte...\n",
       "7919    apple barcelona apple store bcn barcelona trav...\n",
       "Name: tweet, dtype: object"
      ]
     },
     "execution_count": 33,
     "metadata": {},
     "output_type": "execute_result"
    }
   ],
   "source": [
    "data['tweet'].tail()"
   ]
  },
  {
   "cell_type": "markdown",
   "id": "e6671f5a-d4f8-4ae4-9040-4216770abe89",
   "metadata": {},
   "source": [
    "Remove stopwords"
   ]
  },
  {
   "cell_type": "code",
   "execution_count": 35,
   "id": "08069ae1-34f6-4bc9-bcff-8690cca8a3ff",
   "metadata": {},
   "outputs": [
    {
     "name": "stdout",
     "output_type": "stream",
     "text": [
      "Collecting nltk\n",
      "  Downloading nltk-3.8.1-py3-none-any.whl.metadata (2.8 kB)\n",
      "Collecting click (from nltk)\n",
      "  Downloading click-8.1.7-py3-none-any.whl.metadata (3.0 kB)\n",
      "Collecting joblib (from nltk)\n",
      "  Downloading joblib-1.4.2-py3-none-any.whl.metadata (5.4 kB)\n",
      "Collecting regex>=2021.8.3 (from nltk)\n",
      "  Downloading regex-2024.5.15-cp312-cp312-win_amd64.whl.metadata (41 kB)\n",
      "     ---------------------------------------- 0.0/42.0 kB ? eta -:--:--\n",
      "     ----------------------------- ---------- 30.7/42.0 kB 1.4 MB/s eta 0:00:01\n",
      "     -------------------------------------- 42.0/42.0 kB 675.2 kB/s eta 0:00:00\n",
      "Requirement already satisfied: tqdm in d:\\review analysis(python project)\\review-products\\env\\lib\\site-packages (from nltk) (4.66.4)\n",
      "Requirement already satisfied: colorama in d:\\review analysis(python project)\\review-products\\env\\lib\\site-packages (from click->nltk) (0.4.6)\n",
      "Downloading nltk-3.8.1-py3-none-any.whl (1.5 MB)\n",
      "   ---------------------------------------- 0.0/1.5 MB ? eta -:--:--\n",
      "   - -------------------------------------- 0.1/1.5 MB ? eta -:--:--\n",
      "   ---- ----------------------------------- 0.2/1.5 MB 1.8 MB/s eta 0:00:01\n",
      "   ----- ---------------------------------- 0.2/1.5 MB 2.0 MB/s eta 0:00:01\n",
      "   ----- ---------------------------------- 0.2/1.5 MB 2.0 MB/s eta 0:00:01\n",
      "   ----- ---------------------------------- 0.2/1.5 MB 2.0 MB/s eta 0:00:01\n",
      "   -------- ------------------------------- 0.3/1.5 MB 1.4 MB/s eta 0:00:01\n",
      "   ---------- ----------------------------- 0.4/1.5 MB 1.2 MB/s eta 0:00:01\n",
      "   ------------- -------------------------- 0.5/1.5 MB 1.5 MB/s eta 0:00:01\n",
      "   ------------- -------------------------- 0.5/1.5 MB 1.5 MB/s eta 0:00:01\n",
      "   ---------------- ----------------------- 0.6/1.5 MB 1.5 MB/s eta 0:00:01\n",
      "   -------------------- ------------------- 0.8/1.5 MB 1.8 MB/s eta 0:00:01\n",
      "   ---------------------- ----------------- 0.8/1.5 MB 1.7 MB/s eta 0:00:01\n",
      "   -------------------------- ------------- 1.0/1.5 MB 1.8 MB/s eta 0:00:01\n",
      "   ----------------------------- ---------- 1.1/1.5 MB 1.9 MB/s eta 0:00:01\n",
      "   --------------------------------- ------ 1.3/1.5 MB 2.1 MB/s eta 0:00:01\n",
      "   ------------------------------------- -- 1.4/1.5 MB 2.1 MB/s eta 0:00:01\n",
      "   ---------------------------------------- 1.5/1.5 MB 2.2 MB/s eta 0:00:00\n",
      "Downloading regex-2024.5.15-cp312-cp312-win_amd64.whl (268 kB)\n",
      "   ---------------------------------------- 0.0/268.5 kB ? eta -:--:--\n",
      "   ---------------------------------------- 268.5/268.5 kB 8.3 MB/s eta 0:00:00\n",
      "Downloading click-8.1.7-py3-none-any.whl (97 kB)\n",
      "   ---------------------------------------- 0.0/97.9 kB ? eta -:--:--\n",
      "   ---------------------------------------- 97.9/97.9 kB ? eta 0:00:00\n",
      "Downloading joblib-1.4.2-py3-none-any.whl (301 kB)\n",
      "   ---------------------------------------- 0.0/301.8 kB ? eta -:--:--\n",
      "   ---------------------------------------- 301.8/301.8 kB 9.4 MB/s eta 0:00:00\n",
      "Installing collected packages: regex, joblib, click, nltk\n",
      "Successfully installed click-8.1.7 joblib-1.4.2 nltk-3.8.1 regex-2024.5.15\n",
      "Note: you may need to restart the kernel to use updated packages.\n"
     ]
    },
    {
     "name": "stderr",
     "output_type": "stream",
     "text": [
      "\n",
      "[notice] A new release of pip is available: 24.1 -> 24.1.1\n",
      "[notice] To update, run: python.exe -m pip install --upgrade pip\n"
     ]
    }
   ],
   "source": [
    "%pip install nltk"
   ]
  },
  {
   "cell_type": "code",
   "execution_count": 36,
   "id": "53d7044b-0f56-4976-bba6-a2f0b09e94ee",
   "metadata": {},
   "outputs": [],
   "source": [
    "import nltk"
   ]
  },
  {
   "cell_type": "code",
   "execution_count": 37,
   "id": "7410f23f-d22a-418e-9bc3-0e616619325f",
   "metadata": {},
   "outputs": [
    {
     "name": "stderr",
     "output_type": "stream",
     "text": [
      "[nltk_data] Downloading package stopwords to ../Static/Model...\n",
      "[nltk_data]   Unzipping corpora\\stopwords.zip.\n"
     ]
    },
    {
     "data": {
      "text/plain": [
       "True"
      ]
     },
     "execution_count": 37,
     "metadata": {},
     "output_type": "execute_result"
    }
   ],
   "source": [
    "nltk.download(\"stopwords\",download_dir='../Static/Model')"
   ]
  },
  {
   "cell_type": "code",
   "execution_count": 42,
   "id": "6cd46755-2b93-4fd7-b8ce-3950985ed14c",
   "metadata": {},
   "outputs": [],
   "source": [
    "with open('../Static/Model/corpora/stopwords/english','r') as file:\n",
    "    sw = file.read().splitlines()"
   ]
  },
  {
   "cell_type": "code",
   "execution_count": 44,
   "id": "a02bf659-363c-46fd-a417-da066df96bd5",
   "metadata": {},
   "outputs": [],
   "source": [
    "data['tweet'] = data['tweet'].apply(lambda x:\" \".join(x for x in x.split() if x not in sw))"
   ]
  },
  {
   "cell_type": "code",
   "execution_count": 45,
   "id": "d7585701-ea9a-4463-9517-0feec238f2ad",
   "metadata": {},
   "outputs": [
    {
     "data": {
      "text/plain": [
       "0       fingerprint pregnancy test android apps beauti...\n",
       "1       finally transparant silicon case thanks uncle ...\n",
       "2       love would go talk makememories unplug relax i...\n",
       "3       im wired know im george made way iphone cute d...\n",
       "4       amazing service apple wont even talk question ...\n",
       "                              ...                        \n",
       "7915    live loud lol liveoutloud selfie smile sony mu...\n",
       "7916    would like wish amazing day make every minute ...\n",
       "7917    helping lovely year old neighbor ipad morning ...\n",
       "7918    finally got smart pocket wifi stay connected a...\n",
       "7919    apple barcelona apple store bcn barcelona trav...\n",
       "Name: tweet, Length: 7920, dtype: object"
      ]
     },
     "execution_count": 45,
     "metadata": {},
     "output_type": "execute_result"
    }
   ],
   "source": [
    "data['tweet']"
   ]
  },
  {
   "cell_type": "raw",
   "id": "04911387-5fc3-44f3-8b36-8ba1a01ea10e",
   "metadata": {},
   "source": [
    "Stemming"
   ]
  },
  {
   "cell_type": "code",
   "execution_count": 47,
   "id": "c9723f82-45e5-47f5-b49a-b543199dadc5",
   "metadata": {},
   "outputs": [],
   "source": [
    "from nltk import PorterStemmer\n",
    "ps = PorterStemmer()"
   ]
  },
  {
   "cell_type": "code",
   "execution_count": 49,
   "id": "b4b93a1d-cf59-4377-9676-cfa9624b893c",
   "metadata": {},
   "outputs": [],
   "source": [
    "data['tweet'] = data['tweet'].apply(lambda x :' '.join(ps.stem(x) for x in x.split()))"
   ]
  },
  {
   "cell_type": "code",
   "execution_count": 50,
   "id": "efb856a5-f935-4c62-9741-9588e4e343c3",
   "metadata": {},
   "outputs": [
    {
     "data": {
      "text/plain": [
       "0       fingerprint pregnanc test android app beauti c...\n",
       "1       final transpar silicon case thank uncl yay son...\n",
       "2       love would go talk makememori unplug relax iph...\n",
       "3       im wire know im georg made way iphon cute dave...\n",
       "4       amaz servic appl wont even talk question unles...\n",
       "                              ...                        \n",
       "7915    live loud lol liveoutloud selfi smile soni mus...\n",
       "7916    would like wish amaz day make everi minut coun...\n",
       "7917    help love year old neighbor ipad morn made rea...\n",
       "7918    final got smart pocket wifi stay connect anyti...\n",
       "7919    appl barcelona appl store bcn barcelona travel...\n",
       "Name: tweet, Length: 7920, dtype: object"
      ]
     },
     "execution_count": 50,
     "metadata": {},
     "output_type": "execute_result"
    }
   ],
   "source": [
    "data['tweet']"
   ]
  },
  {
   "cell_type": "markdown",
   "id": "bbe674e0-6e0a-4b8d-bb8c-3f60ee230d8a",
   "metadata": {},
   "source": [
    "### Building Vocabulary"
   ]
  },
  {
   "cell_type": "code",
   "execution_count": 56,
   "id": "e93a00c6-5a3f-4ac0-a9da-8e8bc9ac89df",
   "metadata": {},
   "outputs": [],
   "source": [
    "from collections import Counter\n",
    "vocab = Counter()"
   ]
  },
  {
   "cell_type": "code",
   "execution_count": 57,
   "id": "d84c5cc1-b2eb-47ca-a3b6-80db34534356",
   "metadata": {},
   "outputs": [],
   "source": [
    "for sentence in data['tweet']:\n",
    "    vocab.update(sentence.split())"
   ]
  },
  {
   "cell_type": "code",
   "execution_count": 59,
   "id": "9c923991-9702-4bd6-aec7-7df082e81d88",
   "metadata": {},
   "outputs": [
    {
     "data": {
      "text/plain": [
       "15949"
      ]
     },
     "execution_count": 59,
     "metadata": {},
     "output_type": "execute_result"
    }
   ],
   "source": [
    "len(vocab)"
   ]
  },
  {
   "cell_type": "code",
   "execution_count": 60,
   "id": "6bfacec9-0e50-4af7-a60b-ed8c79a823f8",
   "metadata": {},
   "outputs": [],
   "source": [
    "token = [key for key in vocab if vocab[key] > 10]"
   ]
  },
  {
   "cell_type": "code",
   "execution_count": 61,
   "id": "29264734-3233-4a43-8e41-8226eb7bcbb6",
   "metadata": {},
   "outputs": [
    {
     "data": {
      "text/plain": [
       "1145"
      ]
     },
     "execution_count": 61,
     "metadata": {},
     "output_type": "execute_result"
    }
   ],
   "source": [
    "len(token)"
   ]
  },
  {
   "cell_type": "code",
   "execution_count": 63,
   "id": "9a438588-2213-4a46-b22b-27ddbf225a9c",
   "metadata": {},
   "outputs": [],
   "source": [
    "def save_vocabulary(lines,location):\n",
    "    data = '\\n'.join(lines)\n",
    "    file = open(location,'w',encoding = 'utf-8')\n",
    "    file.write(data)\n",
    "    file.close()\n",
    "\n",
    "save_vocabulary(token,'../Static/Model/vocabulary.txt')"
   ]
  },
  {
   "cell_type": "markdown",
   "id": "0f01bd80-264e-4004-9c51-6eda5de930ec",
   "metadata": {},
   "source": [
    "### Divide Data"
   ]
  },
  {
   "cell_type": "code",
   "execution_count": 68,
   "id": "be37371a-c9f9-4256-a98c-c7de68062119",
   "metadata": {},
   "outputs": [],
   "source": [
    "X = data['tweet']\n",
    "y = data['label']"
   ]
  },
  {
   "cell_type": "code",
   "execution_count": 66,
   "id": "01c94dfc-9f50-4de3-bccd-88065add3ae0",
   "metadata": {},
   "outputs": [
    {
     "name": "stdout",
     "output_type": "stream",
     "text": [
      "Collecting scikit-learn\n",
      "  Downloading scikit_learn-1.5.1-cp312-cp312-win_amd64.whl.metadata (12 kB)\n",
      "Requirement already satisfied: numpy>=1.19.5 in d:\\review analysis(python project)\\review-products\\env\\lib\\site-packages (from scikit-learn) (2.0.0)\n",
      "Collecting scipy>=1.6.0 (from scikit-learn)\n",
      "  Downloading scipy-1.14.0-cp312-cp312-win_amd64.whl.metadata (60 kB)\n",
      "     ---------------------------------------- 0.0/60.8 kB ? eta -:--:--\n",
      "     -------------------- ------------------- 30.7/60.8 kB 1.4 MB/s eta 0:00:01\n",
      "     -------------------------------------- 60.8/60.8 kB 537.5 kB/s eta 0:00:00\n",
      "Requirement already satisfied: joblib>=1.2.0 in d:\\review analysis(python project)\\review-products\\env\\lib\\site-packages (from scikit-learn) (1.4.2)\n",
      "Collecting threadpoolctl>=3.1.0 (from scikit-learn)\n",
      "  Downloading threadpoolctl-3.5.0-py3-none-any.whl.metadata (13 kB)\n",
      "Downloading scikit_learn-1.5.1-cp312-cp312-win_amd64.whl (10.9 MB)\n",
      "   ---------------------------------------- 0.0/10.9 MB ? eta -:--:--\n",
      "   ---------------------------------------- 0.1/10.9 MB 2.6 MB/s eta 0:00:05\n",
      "    --------------------------------------- 0.2/10.9 MB 1.7 MB/s eta 0:00:07\n",
      "    --------------------------------------- 0.2/10.9 MB 2.0 MB/s eta 0:00:06\n",
      "   - -------------------------------------- 0.5/10.9 MB 2.5 MB/s eta 0:00:05\n",
      "   -- ------------------------------------- 0.6/10.9 MB 2.7 MB/s eta 0:00:04\n",
      "   --- ------------------------------------ 1.0/10.9 MB 3.8 MB/s eta 0:00:03\n",
      "   ----- ---------------------------------- 1.5/10.9 MB 4.7 MB/s eta 0:00:03\n",
      "   -------- ------------------------------- 2.3/10.9 MB 6.5 MB/s eta 0:00:02\n",
      "   ------------- -------------------------- 3.7/10.9 MB 9.1 MB/s eta 0:00:01\n",
      "   ----------------- ---------------------- 4.7/10.9 MB 10.7 MB/s eta 0:00:01\n",
      "   ---------------------- ----------------- 6.0/10.9 MB 12.4 MB/s eta 0:00:01\n",
      "   --------------------------- ------------ 7.4/10.9 MB 14.0 MB/s eta 0:00:01\n",
      "   -------------------------------- ------- 8.9/10.9 MB 15.7 MB/s eta 0:00:01\n",
      "   ------------------------------------- -- 10.2/10.9 MB 16.4 MB/s eta 0:00:01\n",
      "   -------------------------------------- - 10.4/10.9 MB 19.3 MB/s eta 0:00:01\n",
      "   -------------------------------------- - 10.4/10.9 MB 19.3 MB/s eta 0:00:01\n",
      "   -------------------------------------- - 10.4/10.9 MB 19.3 MB/s eta 0:00:01\n",
      "   -------------------------------------- - 10.4/10.9 MB 19.3 MB/s eta 0:00:01\n",
      "   -------------------------------------- - 10.4/10.9 MB 19.3 MB/s eta 0:00:01\n",
      "   -------------------------------------- - 10.4/10.9 MB 19.3 MB/s eta 0:00:01\n",
      "   -------------------------------------- - 10.4/10.9 MB 19.3 MB/s eta 0:00:01\n",
      "   -------------------------------------- - 10.4/10.9 MB 19.3 MB/s eta 0:00:01\n",
      "   -------------------------------------- - 10.5/10.9 MB 11.7 MB/s eta 0:00:01\n",
      "   -------------------------------------- - 10.5/10.9 MB 11.7 MB/s eta 0:00:01\n",
      "   -------------------------------------- - 10.5/10.9 MB 11.7 MB/s eta 0:00:01\n",
      "   -------------------------------------- - 10.5/10.9 MB 11.7 MB/s eta 0:00:01\n",
      "   ---------------------------------------  10.9/10.9 MB 11.7 MB/s eta 0:00:01\n",
      "   ---------------------------------------- 10.9/10.9 MB 10.7 MB/s eta 0:00:00\n",
      "Downloading scipy-1.14.0-cp312-cp312-win_amd64.whl (44.5 MB)\n",
      "   ---------------------------------------- 0.0/44.5 MB ? eta -:--:--\n",
      "   ---------------------------------------- 0.5/44.5 MB 14.2 MB/s eta 0:00:04\n",
      "   - -------------------------------------- 1.7/44.5 MB 17.7 MB/s eta 0:00:03\n",
      "   --- ------------------------------------ 3.5/44.5 MB 27.7 MB/s eta 0:00:02\n",
      "   ---- ----------------------------------- 4.7/44.5 MB 27.4 MB/s eta 0:00:02\n",
      "   ---- ----------------------------------- 4.7/44.5 MB 27.4 MB/s eta 0:00:02\n",
      "   ---- ----------------------------------- 4.7/44.5 MB 27.4 MB/s eta 0:00:02\n",
      "   ---- ----------------------------------- 4.7/44.5 MB 27.4 MB/s eta 0:00:02\n",
      "   ---- ----------------------------------- 4.7/44.5 MB 27.4 MB/s eta 0:00:02\n",
      "   ---- ----------------------------------- 4.7/44.5 MB 27.4 MB/s eta 0:00:02\n",
      "   ---- ----------------------------------- 4.7/44.5 MB 27.4 MB/s eta 0:00:02\n",
      "   ---- ----------------------------------- 4.7/44.5 MB 27.4 MB/s eta 0:00:02\n",
      "   ---- ----------------------------------- 4.7/44.5 MB 27.4 MB/s eta 0:00:02\n",
      "   ---- ----------------------------------- 4.7/44.5 MB 8.4 MB/s eta 0:00:05\n",
      "   ---- ----------------------------------- 4.7/44.5 MB 8.4 MB/s eta 0:00:05\n",
      "   ---- ----------------------------------- 4.7/44.5 MB 8.4 MB/s eta 0:00:05\n",
      "   ---- ----------------------------------- 4.7/44.5 MB 8.4 MB/s eta 0:00:05\n",
      "   ---- ----------------------------------- 4.7/44.5 MB 8.4 MB/s eta 0:00:05\n",
      "   ---- ----------------------------------- 4.7/44.5 MB 8.4 MB/s eta 0:00:05\n",
      "   ---- ----------------------------------- 4.8/44.5 MB 6.0 MB/s eta 0:00:07\n",
      "   ---- ----------------------------------- 4.8/44.5 MB 6.0 MB/s eta 0:00:07\n",
      "   ---- ----------------------------------- 4.8/44.5 MB 6.0 MB/s eta 0:00:07\n",
      "   ---- ----------------------------------- 4.8/44.5 MB 5.1 MB/s eta 0:00:08\n",
      "   ---- ----------------------------------- 4.8/44.5 MB 5.1 MB/s eta 0:00:08\n",
      "   ---- ----------------------------------- 4.8/44.5 MB 4.8 MB/s eta 0:00:09\n",
      "   ---- ----------------------------------- 4.9/44.5 MB 4.5 MB/s eta 0:00:09\n",
      "   ---- ----------------------------------- 4.9/44.5 MB 4.5 MB/s eta 0:00:09\n",
      "   ---- ----------------------------------- 5.0/44.5 MB 4.3 MB/s eta 0:00:10\n",
      "   ---- ----------------------------------- 5.0/44.5 MB 4.2 MB/s eta 0:00:10\n",
      "   ---- ----------------------------------- 5.0/44.5 MB 4.1 MB/s eta 0:00:10\n",
      "   ---- ----------------------------------- 5.1/44.5 MB 4.0 MB/s eta 0:00:10\n",
      "   ---- ----------------------------------- 5.1/44.5 MB 4.0 MB/s eta 0:00:10\n",
      "   ---- ----------------------------------- 5.2/44.5 MB 3.8 MB/s eta 0:00:11\n",
      "   ---- ----------------------------------- 5.3/44.5 MB 3.8 MB/s eta 0:00:11\n",
      "   ---- ----------------------------------- 5.3/44.5 MB 3.7 MB/s eta 0:00:11\n",
      "   ---- ----------------------------------- 5.5/44.5 MB 3.7 MB/s eta 0:00:11\n",
      "   ---- ----------------------------------- 5.5/44.5 MB 3.7 MB/s eta 0:00:11\n",
      "   ----- ---------------------------------- 5.7/44.5 MB 3.6 MB/s eta 0:00:11\n",
      "   ----- ---------------------------------- 5.8/44.5 MB 3.6 MB/s eta 0:00:11\n",
      "   ----- ---------------------------------- 5.9/44.5 MB 3.6 MB/s eta 0:00:11\n",
      "   ----- ---------------------------------- 6.2/44.5 MB 3.6 MB/s eta 0:00:11\n",
      "   ----- ---------------------------------- 6.2/44.5 MB 3.6 MB/s eta 0:00:11\n",
      "   ----- ---------------------------------- 6.4/44.5 MB 3.6 MB/s eta 0:00:11\n",
      "   ----- ---------------------------------- 6.5/44.5 MB 3.6 MB/s eta 0:00:11\n",
      "   ----- ---------------------------------- 6.6/44.5 MB 3.6 MB/s eta 0:00:11\n",
      "   ------ --------------------------------- 6.9/44.5 MB 3.6 MB/s eta 0:00:11\n",
      "   ------ --------------------------------- 6.9/44.5 MB 3.6 MB/s eta 0:00:11\n",
      "   ------ --------------------------------- 7.0/44.5 MB 3.5 MB/s eta 0:00:11\n",
      "   ------ --------------------------------- 7.1/44.5 MB 3.5 MB/s eta 0:00:11\n",
      "   ------ --------------------------------- 7.2/44.5 MB 3.5 MB/s eta 0:00:11\n",
      "   ------ --------------------------------- 7.4/44.5 MB 3.5 MB/s eta 0:00:11\n",
      "   ------ --------------------------------- 7.4/44.5 MB 3.5 MB/s eta 0:00:11\n",
      "   ------ --------------------------------- 7.6/44.5 MB 3.4 MB/s eta 0:00:11\n",
      "   ------ --------------------------------- 7.8/44.5 MB 3.4 MB/s eta 0:00:11\n",
      "   ------- -------------------------------- 7.8/44.5 MB 3.4 MB/s eta 0:00:11\n",
      "   ------- -------------------------------- 8.1/44.5 MB 3.4 MB/s eta 0:00:11\n",
      "   ------- -------------------------------- 8.1/44.5 MB 3.4 MB/s eta 0:00:11\n",
      "   ------- -------------------------------- 8.2/44.5 MB 3.4 MB/s eta 0:00:11\n",
      "   ------- -------------------------------- 8.3/44.5 MB 3.4 MB/s eta 0:00:11\n",
      "   ------- -------------------------------- 8.4/44.5 MB 3.4 MB/s eta 0:00:11\n",
      "   ------- -------------------------------- 8.6/44.5 MB 3.3 MB/s eta 0:00:11\n",
      "   --------- ------------------------------ 10.5/44.5 MB 3.9 MB/s eta 0:00:09\n",
      "   ---------- ----------------------------- 12.0/44.5 MB 4.0 MB/s eta 0:00:09\n",
      "   ------------ --------------------------- 13.5/44.5 MB 3.9 MB/s eta 0:00:08\n",
      "   ------------- -------------------------- 15.0/44.5 MB 5.2 MB/s eta 0:00:06\n",
      "   --------------- ------------------------ 17.0/44.5 MB 11.5 MB/s eta 0:00:03\n",
      "   ---------------- ----------------------- 18.6/44.5 MB 27.3 MB/s eta 0:00:01\n",
      "   ------------------ --------------------- 20.1/44.5 MB 36.4 MB/s eta 0:00:01\n",
      "   ------------------- -------------------- 21.6/44.5 MB 38.5 MB/s eta 0:00:01\n",
      "   -------------------- ------------------- 23.1/44.5 MB 38.6 MB/s eta 0:00:01\n",
      "   ---------------------- ----------------- 24.6/44.5 MB 36.4 MB/s eta 0:00:01\n",
      "   ----------------------- ---------------- 26.1/44.5 MB 38.5 MB/s eta 0:00:01\n",
      "   ------------------------ --------------- 27.5/44.5 MB 38.6 MB/s eta 0:00:01\n",
      "   -------------------------- ------------- 29.2/44.5 MB 36.4 MB/s eta 0:00:01\n",
      "   --------------------------- ------------ 30.7/44.5 MB 36.4 MB/s eta 0:00:01\n",
      "   ---------------------------- ----------- 32.1/44.5 MB 38.6 MB/s eta 0:00:01\n",
      "   ------------------------------ --------- 34.2/44.5 MB 34.4 MB/s eta 0:00:01\n",
      "   -------------------------------- ------- 36.0/44.5 MB 36.4 MB/s eta 0:00:01\n",
      "   ---------------------------------- ----- 38.0/44.5 MB 36.4 MB/s eta 0:00:01\n",
      "   ----------------------------------- ---- 39.4/44.5 MB 36.4 MB/s eta 0:00:01\n",
      "   ------------------------------------ --- 41.0/44.5 MB 36.4 MB/s eta 0:00:01\n",
      "   -------------------------------------- - 42.9/44.5 MB 38.6 MB/s eta 0:00:01\n",
      "   ---------------------------------------  44.4/44.5 MB 36.4 MB/s eta 0:00:01\n",
      "   ---------------------------------------  44.5/44.5 MB 36.4 MB/s eta 0:00:01\n",
      "   ---------------------------------------  44.5/44.5 MB 36.4 MB/s eta 0:00:01\n",
      "   ---------------------------------------  44.5/44.5 MB 36.4 MB/s eta 0:00:01\n",
      "   ---------------------------------------  44.5/44.5 MB 36.4 MB/s eta 0:00:01\n",
      "   ---------------------------------------- 44.5/44.5 MB 21.8 MB/s eta 0:00:00\n",
      "Downloading threadpoolctl-3.5.0-py3-none-any.whl (18 kB)\n",
      "Installing collected packages: threadpoolctl, scipy, scikit-learn\n",
      "Successfully installed scikit-learn-1.5.1 scipy-1.14.0 threadpoolctl-3.5.0\n",
      "Note: you may need to restart the kernel to use updated packages.\n"
     ]
    },
    {
     "name": "stderr",
     "output_type": "stream",
     "text": [
      "\n",
      "[notice] A new release of pip is available: 24.1 -> 24.1.1\n",
      "[notice] To update, run: python.exe -m pip install --upgrade pip\n"
     ]
    }
   ],
   "source": [
    "%pip install scikit-learn"
   ]
  },
  {
   "cell_type": "code",
   "execution_count": 69,
   "id": "f0467378-e44f-4e45-b41a-b615b4ee66da",
   "metadata": {},
   "outputs": [],
   "source": [
    "from sklearn.model_selection import train_test_split\n",
    "X_train , X_test , y_train, y_test = train_test_split(X,y,test_size= 0.2) "
   ]
  },
  {
   "cell_type": "code",
   "execution_count": 70,
   "id": "e0e125f9-c505-4402-a0d8-942cb1e738c5",
   "metadata": {},
   "outputs": [
    {
     "data": {
      "text/plain": [
       "6336"
      ]
     },
     "execution_count": 70,
     "metadata": {},
     "output_type": "execute_result"
    }
   ],
   "source": [
    "len(X_train)"
   ]
  },
  {
   "cell_type": "code",
   "execution_count": 71,
   "id": "c6cebc2c-1d27-41c6-b430-56bce6055b19",
   "metadata": {},
   "outputs": [
    {
     "data": {
      "text/plain": [
       "1584"
      ]
     },
     "execution_count": 71,
     "metadata": {},
     "output_type": "execute_result"
    }
   ],
   "source": [
    "len(X_test)"
   ]
  },
  {
   "cell_type": "markdown",
   "id": "56c454b7-b651-4a7b-86c1-fd5f364bec97",
   "metadata": {},
   "source": [
    "### Vectorization"
   ]
  },
  {
   "cell_type": "code",
   "execution_count": 79,
   "id": "e16eecbf-56ef-4f37-b943-bcf5513fefb3",
   "metadata": {},
   "outputs": [],
   "source": [
    "def vectorizer(ds,vocabulary):\n",
    "    vectorized_list = []\n",
    "\n",
    "    for sentence in ds :\n",
    "        sentence_list = np.zeros(len(vocabulary))\n",
    "\n",
    "        for i in range(len(vocabulary)):\n",
    "            if vocabulary[i] in sentence.split():\n",
    "                sentence_list[i] = 1\n",
    "\n",
    "        vectorized_list.append(sentence_list)\n",
    "\n",
    "    return np.asarray(vectorized_list,dtype=np.float32)"
   ]
  },
  {
   "cell_type": "code",
   "execution_count": 80,
   "id": "0a08c255-8d59-4778-8dd2-467e4ddc0c25",
   "metadata": {},
   "outputs": [],
   "source": [
    "vectorized_X_train = vectorizer(X_train,token)"
   ]
  },
  {
   "cell_type": "code",
   "execution_count": 81,
   "id": "1cc23e51-2432-4183-aca4-433b425cb730",
   "metadata": {},
   "outputs": [],
   "source": [
    "vectorized_X_test = vectorizer(X_test,token)"
   ]
  },
  {
   "cell_type": "code",
   "execution_count": 84,
   "id": "fcdbc792-23a4-42ce-bd4b-db07a05bd9de",
   "metadata": {},
   "outputs": [
    {
     "data": {
      "text/plain": [
       "label\n",
       "0    4716\n",
       "1    1620\n",
       "Name: count, dtype: int64"
      ]
     },
     "execution_count": 84,
     "metadata": {},
     "output_type": "execute_result"
    }
   ],
   "source": [
    "y_train.value_counts()"
   ]
  },
  {
   "cell_type": "code",
   "execution_count": 87,
   "id": "6ac79886-35e6-4fe3-9e37-8a4025542a3d",
   "metadata": {},
   "outputs": [
    {
     "data": {
      "text/plain": [
       "label\n",
       "0    4716\n",
       "1    1620\n",
       "Name: count, dtype: int64"
      ]
     },
     "execution_count": 87,
     "metadata": {},
     "output_type": "execute_result"
    }
   ],
   "source": [
    "y_train.value_counts()\n"
   ]
  },
  {
   "cell_type": "code",
   "execution_count": 93,
   "id": "bf31d6ec-0368-4fbd-a580-b818d5804b50",
   "metadata": {},
   "outputs": [
    {
     "data": {
      "image/png": "[encoded data removed]",
      "text/plain": [
       "<Figure size 640x480 with 1 Axes>"
      ]
     },
     "metadata": {},
     "output_type": "display_data"
    }
   ],
   "source": [
    "plt.pie(np.array([y_train.value_counts()[0],y_train.value_counts()[1]]),labels=['Positive','Negative'])\n",
    "plt.title('Class Distribution in y_train')\n",
    "plt.show()"
   ]
  },
  {
   "cell_type": "markdown",
   "id": "7fc7fd39-f864-4a63-a3a4-482e65cfbfbb",
   "metadata": {},
   "source": [
    "### Handle imbalance dataset"
   ]
  },
  {
   "cell_type": "code",
   "execution_count": 96,
   "id": "165bdc90-5342-433a-8417-8319eab8136c",
   "metadata": {},
   "outputs": [
    {
     "name": "stdout",
     "output_type": "stream",
     "text": [
      "Collecting imbalanced-learn\n",
      "  Downloading imbalanced_learn-0.12.3-py3-none-any.whl.metadata (8.3 kB)\n",
      "Requirement already satisfied: numpy>=1.17.3 in d:\\review analysis(python project)\\review-products\\env\\lib\\site-packages (from imbalanced-learn) (2.0.0)\n",
      "Requirement already satisfied: scipy>=1.5.0 in d:\\review analysis(python project)\\review-products\\env\\lib\\site-packages (from imbalanced-learn) (1.14.0)\n",
      "Requirement already satisfied: scikit-learn>=1.0.2 in d:\\review analysis(python project)\\review-products\\env\\lib\\site-packages (from imbalanced-learn) (1.5.1)\n",
      "Requirement already satisfied: joblib>=1.1.1 in d:\\review analysis(python project)\\review-products\\env\\lib\\site-packages (from imbalanced-learn) (1.4.2)\n",
      "Requirement already satisfied: threadpoolctl>=2.0.0 in d:\\review analysis(python project)\\review-products\\env\\lib\\site-packages (from imbalanced-learn) (3.5.0)\n",
      "Downloading imbalanced_learn-0.12.3-py3-none-any.whl (258 kB)\n",
      "   ---------------------------------------- 0.0/258.3 kB ? eta -:--:--\n",
      "   --------- ------------------------------ 61.4/258.3 kB 1.1 MB/s eta 0:00:01\n",
      "   ---------------------- ----------------- 143.4/258.3 kB 1.4 MB/s eta 0:00:01\n",
      "   ---------------------------------------  256.0/258.3 kB 2.0 MB/s eta 0:00:01\n",
      "   ---------------------------------------- 258.3/258.3 kB 1.8 MB/s eta 0:00:00\n",
      "Installing collected packages: imbalanced-learn\n",
      "Successfully installed imbalanced-learn-0.12.3\n",
      "Note: you may need to restart the kernel to use updated packages.\n"
     ]
    },
    {
     "name": "stderr",
     "output_type": "stream",
     "text": [
      "\n",
      "[notice] A new release of pip is available: 24.1 -> 24.1.1\n",
      "[notice] To update, run: python.exe -m pip install --upgrade pip\n"
     ]
    }
   ],
   "source": [
    "%pip install imbalanced-learn"
   ]
  },
  {
   "cell_type": "code",
   "execution_count": 99,
   "id": "34e89d93-2523-4273-a87d-0148f55e2fd3",
   "metadata": {},
   "outputs": [],
   "source": [
    "from imblearn.over_sampling import SMOTE\n",
    "smote = SMOTE()\n",
    "vectorized_X_train_smote,y_train_smote = smote.fit_resample(vectorized_X_train,y_train)"
   ]
  },
  {
   "cell_type": "code",
   "execution_count": 101,
   "id": "d7340e8d-13b6-411c-ad59-92f78aa85a9c",
   "metadata": {},
   "outputs": [
    {
     "data": {
      "text/plain": [
       "label\n",
       "0    4716\n",
       "1    4716\n",
       "Name: count, dtype: int64"
      ]
     },
     "execution_count": 101,
     "metadata": {},
     "output_type": "execute_result"
    }
   ],
   "source": [
    "y_train_smote.value_counts()"
   ]
  },
  {
   "cell_type": "markdown",
   "id": "b2081710-26f4-4df2-97f3-b48c22ff61b1",
   "metadata": {},
   "source": [
    "### Model Training"
   ]
  },
  {
   "cell_type": "code",
   "execution_count": 104,
   "id": "f2fd0003-a0f6-422c-834d-ece0800fcde4",
   "metadata": {},
   "outputs": [],
   "source": [
    "from sklearn.linear_model import LogisticRegression\n",
    "from sklearn.naive_bayes import MultinomialNB\n",
    "from sklearn.tree import DecisionTreeClassifier\n",
    "from sklearn.ensemble import RandomForestClassifier\n",
    "from sklearn.svm import SVC"
   ]
  },
  {
   "cell_type": "code",
   "execution_count": 110,
   "id": "8540ec7e-1c62-4b9e-83cd-80e38f3f40aa",
   "metadata": {},
   "outputs": [],
   "source": [
    "from sklearn.metrics import accuracy_score,f1_score,precision_score,recall_score\n",
    "\n",
    "def training_score(y_act,y_pred):\n",
    "    acc = round(accuracy_score(y_act,y_pred),3)\n",
    "    pr = round(precision_score(y_act,y_pred),3)\n",
    "    rec = round(recall_score(y_act,y_pred),3)\n",
    "    f1 = round(f1_score(y_act,y_pred),3)\n",
    "    print(f'Training Score: \\n\\tAccuracy={acc}\\n\\tPrecision={pr}\\n\\tRecall={rec}\\n\\tf1-score={f1}\\n')\n",
    "\n",
    "def validation_score(y_act,y_pred):\n",
    "    acc = round(accuracy_score(y_act,y_pred),3)\n",
    "    pr = round(precision_score(y_act,y_pred),3)\n",
    "    rec = round(recall_score(y_act,y_pred),3)\n",
    "    f1 = round(f1_score(y_act,y_pred),3)\n",
    "    print(f'Training Score: \\n\\tAccuracy={acc}\\n\\tPrecision={pr}\\n\\tRecall={rec}\\n\\tf1-score={f1}\\n')\n",
    "\n"
   ]
  },
  {
   "cell_type": "markdown",
   "id": "dbde4624-4797-4b8b-acfc-054a7551054c",
   "metadata": {},
   "source": [
    "#### Logistic Regression\n"
   ]
  },
  {
   "cell_type": "code",
   "execution_count": 106,
   "id": "ea6acfa1-26ff-471c-a18a-1eb7f4b059f5",
   "metadata": {},
   "outputs": [
    {
     "data": {
      "text/html": [
       "<style>#sk-container-id-1 {\n",
       "  /* Definition of color scheme common for light and dark mode */\n",
       "  --sklearn-color-text: black;\n",
       "  --sklearn-color-line: gray;\n",
       "  /* Definition of color scheme for unfitted estimators */\n",
       "  --sklearn-color-unfitted-level-0: #fff5e6;\n",
       "  --sklearn-color-unfitted-level-1: #f6e4d2;\n",
       "  --sklearn-color-unfitted-level-2: #ffe0b3;\n",
       "  --sklearn-color-unfitted-level-3: chocolate;\n",
       "  /* Definition of color scheme for fitted estimators */\n",
       "  --sklearn-color-fitted-level-0: #f0f8ff;\n",
       "  --sklearn-color-fitted-level-1: #d4ebff;\n",
       "  --sklearn-color-fitted-level-2: #b3dbfd;\n",
       "  --sklearn-color-fitted-level-3: cornflowerblue;\n",
       "\n",
       "  /* Specific color for light theme */\n",
       "  --sklearn-color-text-on-default-background: var(--sg-text-color, var(--theme-code-foreground, var(--jp-content-font-color1, black)));\n",
       "  --sklearn-color-background: var(--sg-background-color, var(--theme-background, var(--jp-layout-color0, white)));\n",
       "  --sklearn-color-border-box: var(--sg-text-color, var(--theme-code-foreground, var(--jp-content-font-color1, black)));\n",
       "  --sklearn-color-icon: #696969;\n",
       "\n",
       "  @media (prefers-color-scheme: dark) {\n",
       "    /* Redefinition of color scheme for dark theme */\n",
       "    --sklearn-color-text-on-default-background: var(--sg-text-color, var(--theme-code-foreground, var(--jp-content-font-color1, white)));\n",
       "    --sklearn-color-background: var(--sg-background-color, var(--theme-background, var(--jp-layout-color0, #111)));\n",
       "    --sklearn-color-border-box: var(--sg-text-color, var(--theme-code-foreground, var(--jp-content-font-color1, white)));\n",
       "    --sklearn-color-icon: #878787;\n",
       "  }\n",
       "}\n",
       "\n",
       "#sk-container-id-1 {\n",
       "  color: var(--sklearn-color-text);\n",
       "}\n",
       "\n",
       "#sk-container-id-1 pre {\n",
       "  padding: 0;\n",
       "}\n",
       "\n",
       "#sk-container-id-1 input.sk-hidden--visually {\n",
       "  border: 0;\n",
       "  clip: rect(1px 1px 1px 1px);\n",
       "  clip: rect(1px, 1px, 1px, 1px);\n",
       "  height: 1px;\n",
       "  margin: -1px;\n",
       "  overflow: hidden;\n",
       "  padding: 0;\n",
       "  position: absolute;\n",
       "  width: 1px;\n",
       "}\n",
       "\n",
       "#sk-container-id-1 div.sk-dashed-wrapped {\n",
       "  border: 1px dashed var(--sklearn-color-line);\n",
       "  margin: 0 0.4em 0.5em 0.4em;\n",
       "  box-sizing: border-box;\n",
       "  padding-bottom: 0.4em;\n",
       "  background-color: var(--sklearn-color-background);\n",
       "}\n",
       "\n",
       "#sk-container-id-1 div.sk-container {\n",
       "  /* jupyter's `normalize.less` sets `[hidden] { display: none; }`\n",
       "     but bootstrap.min.css set `[hidden] { display: none !important; }`\n",
       "     so we also need the `!important` here to be able to override the\n",
       "     default hidden behavior on the sphinx rendered scikit-learn.org.\n",
       "     See: https://github.com/scikit-learn/scikit-learn/issues/21755 */\n",
       "  display: inline-block !important;\n",
       "  position: relative;\n",
       "}\n",
       "\n",
       "#sk-container-id-1 div.sk-text-repr-fallback {\n",
       "  display: none;\n",
       "}\n",
       "\n",
       "div.sk-parallel-item,\n",
       "div.sk-serial,\n",
       "div.sk-item {\n",
       "  /* draw centered vertical line to link estimators */\n",
       "  background-image: linear-gradient(var(--sklearn-color-text-on-default-background), var(--sklearn-color-text-on-default-background));\n",
       "  background-size: 2px 100%;\n",
       "  background-repeat: no-repeat;\n",
       "  background-position: center center;\n",
       "}\n",
       "\n",
       "/* Parallel-specific style estimator block */\n",
       "\n",
       "#sk-container-id-1 div.sk-parallel-item::after {\n",
       "  content: \"\";\n",
       "  width: 100%;\n",
       "  border-bottom: 2px solid var(--sklearn-color-text-on-default-background);\n",
       "  flex-grow: 1;\n",
       "}\n",
       "\n",
       "#sk-container-id-1 div.sk-parallel {\n",
       "  display: flex;\n",
       "  align-items: stretch;\n",
       "  justify-content: center;\n",
       "  background-color: var(--sklearn-color-background);\n",
       "  position: relative;\n",
       "}\n",
       "\n",
       "#sk-container-id-1 div.sk-parallel-item {\n",
       "  display: flex;\n",
       "  flex-direction: column;\n",
       "}\n",
       "\n",
       "#sk-container-id-1 div.sk-parallel-item:first-child::after {\n",
       "  align-self: flex-end;\n",
       "  width: 50%;\n",
       "}\n",
       "\n",
       "#sk-container-id-1 div.sk-parallel-item:last-child::after {\n",
       "  align-self: flex-start;\n",
       "  width: 50%;\n",
       "}\n",
       "\n",
       "#sk-container-id-1 div.sk-parallel-item:only-child::after {\n",
       "  width: 0;\n",
       "}\n",
       "\n",
       "/* Serial-specific style estimator block */\n",
       "\n",
       "#sk-container-id-1 div.sk-serial {\n",
       "  display: flex;\n",
       "  flex-direction: column;\n",
       "  align-items: center;\n",
       "  background-color: var(--sklearn-color-background);\n",
       "  padding-right: 1em;\n",
       "  padding-left: 1em;\n",
       "}\n",
       "\n",
       "\n",
       "/* Toggleable style: style used for estimator/Pipeline/ColumnTransformer box that is\n",
       "clickable and can be expanded/collapsed.\n",
       "- Pipeline and ColumnTransformer use this feature and define the default style\n",
       "- Estimators will overwrite some part of the style using the `sk-estimator` class\n",
       "*/\n",
       "\n",
       "/* Pipeline and ColumnTransformer style (default) */\n",
       "\n",
       "#sk-container-id-1 div.sk-toggleable {\n",
       "  /* Default theme specific background. It is overwritten whether we have a\n",
       "  specific estimator or a Pipeline/ColumnTransformer */\n",
       "  background-color: var(--sklearn-color-background);\n",
       "}\n",
       "\n",
       "/* Toggleable label */\n",
       "#sk-container-id-1 label.sk-toggleable__label {\n",
       "  cursor: pointer;\n",
       "  display: block;\n",
       "  width: 100%;\n",
       "  margin-bottom: 0;\n",
       "  padding: 0.5em;\n",
       "  box-sizing: border-box;\n",
       "  text-align: center;\n",
       "}\n",
       "\n",
       "#sk-container-id-1 label.sk-toggleable__label-arrow:before {\n",
       "  /* Arrow on the left of the label */\n",
       "  content: \"▸\";\n",
       "  float: left;\n",
       "  margin-right: 0.25em;\n",
       "  color: var(--sklearn-color-icon);\n",
       "}\n",
       "\n",
       "#sk-container-id-1 label.sk-toggleable__label-arrow:hover:before {\n",
       "  color: var(--sklearn-color-text);\n",
       "}\n",
       "\n",
       "/* Toggleable content - dropdown */\n",
       "\n",
       "#sk-container-id-1 div.sk-toggleable__content {\n",
       "  max-height: 0;\n",
       "  max-width: 0;\n",
       "  overflow: hidden;\n",
       "  text-align: left;\n",
       "  /* unfitted */\n",
       "  background-color: var(--sklearn-color-unfitted-level-0);\n",
       "}\n",
       "\n",
       "#sk-container-id-1 div.sk-toggleable__content.fitted {\n",
       "  /* fitted */\n",
       "  background-color: var(--sklearn-color-fitted-level-0);\n",
       "}\n",
       "\n",
       "#sk-container-id-1 div.sk-toggleable__content pre {\n",
       "  margin: 0.2em;\n",
       "  border-radius: 0.25em;\n",
       "  color: var(--sklearn-color-text);\n",
       "  /* unfitted */\n",
       "  background-color: var(--sklearn-color-unfitted-level-0);\n",
       "}\n",
       "\n",
       "#sk-container-id-1 div.sk-toggleable__content.fitted pre {\n",
       "  /* unfitted */\n",
       "  background-color: var(--sklearn-color-fitted-level-0);\n",
       "}\n",
       "\n",
       "#sk-container-id-1 input.sk-toggleable__control:checked~div.sk-toggleable__content {\n",
       "  /* Expand drop-down */\n",
       "  max-height: 200px;\n",
       "  max-width: 100%;\n",
       "  overflow: auto;\n",
       "}\n",
       "\n",
       "#sk-container-id-1 input.sk-toggleable__control:checked~label.sk-toggleable__label-arrow:before {\n",
       "  content: \"▾\";\n",
       "}\n",
       "\n",
       "/* Pipeline/ColumnTransformer-specific style */\n",
       "\n",
       "#sk-container-id-1 div.sk-label input.sk-toggleable__control:checked~label.sk-toggleable__label {\n",
       "  color: var(--sklearn-color-text);\n",
       "  background-color: var(--sklearn-color-unfitted-level-2);\n",
       "}\n",
       "\n",
       "#sk-container-id-1 div.sk-label.fitted input.sk-toggleable__control:checked~label.sk-toggleable__label {\n",
       "  background-color: var(--sklearn-color-fitted-level-2);\n",
       "}\n",
       "\n",
       "/* Estimator-specific style */\n",
       "\n",
       "/* Colorize estimator box */\n",
       "#sk-container-id-1 div.sk-estimator input.sk-toggleable__control:checked~label.sk-toggleable__label {\n",
       "  /* unfitted */\n",
       "  background-color: var(--sklearn-color-unfitted-level-2);\n",
       "}\n",
       "\n",
       "#sk-container-id-1 div.sk-estimator.fitted input.sk-toggleable__control:checked~label.sk-toggleable__label {\n",
       "  /* fitted */\n",
       "  background-color: var(--sklearn-color-fitted-level-2);\n",
       "}\n",
       "\n",
       "#sk-container-id-1 div.sk-label label.sk-toggleable__label,\n",
       "#sk-container-id-1 div.sk-label label {\n",
       "  /* The background is the default theme color */\n",
       "  color: var(--sklearn-color-text-on-default-background);\n",
       "}\n",
       "\n",
       "/* On hover, darken the color of the background */\n",
       "#sk-container-id-1 div.sk-label:hover label.sk-toggleable__label {\n",
       "  color: var(--sklearn-color-text);\n",
       "  background-color: var(--sklearn-color-unfitted-level-2);\n",
       "}\n",
       "\n",
       "/* Label box, darken color on hover, fitted */\n",
       "#sk-container-id-1 div.sk-label.fitted:hover label.sk-toggleable__label.fitted {\n",
       "  color: var(--sklearn-color-text);\n",
       "  background-color: var(--sklearn-color-fitted-level-2);\n",
       "}\n",
       "\n",
       "/* Estimator label */\n",
       "\n",
       "#sk-container-id-1 div.sk-label label {\n",
       "  font-family: monospace;\n",
       "  font-weight: bold;\n",
       "  display: inline-block;\n",
       "  line-height: 1.2em;\n",
       "}\n",
       "\n",
       "#sk-container-id-1 div.sk-label-container {\n",
       "  text-align: center;\n",
       "}\n",
       "\n",
       "/* Estimator-specific */\n",
       "#sk-container-id-1 div.sk-estimator {\n",
       "  font-family: monospace;\n",
       "  border: 1px dotted var(--sklearn-color-border-box);\n",
       "  border-radius: 0.25em;\n",
       "  box-sizing: border-box;\n",
       "  margin-bottom: 0.5em;\n",
       "  /* unfitted */\n",
       "  background-color: var(--sklearn-color-unfitted-level-0);\n",
       "}\n",
       "\n",
       "#sk-container-id-1 div.sk-estimator.fitted {\n",
       "  /* fitted */\n",
       "  background-color: var(--sklearn-color-fitted-level-0);\n",
       "}\n",
       "\n",
       "/* on hover */\n",
       "#sk-container-id-1 div.sk-estimator:hover {\n",
       "  /* unfitted */\n",
       "  background-color: var(--sklearn-color-unfitted-level-2);\n",
       "}\n",
       "\n",
       "#sk-container-id-1 div.sk-estimator.fitted:hover {\n",
       "  /* fitted */\n",
       "  background-color: var(--sklearn-color-fitted-level-2);\n",
       "}\n",
       "\n",
       "/* Specification for estimator info (e.g. \"i\" and \"?\") */\n",
       "\n",
       "/* Common style for \"i\" and \"?\" */\n",
       "\n",
       ".sk-estimator-doc-link,\n",
       "a:link.sk-estimator-doc-link,\n",
       "a:visited.sk-estimator-doc-link {\n",
       "  float: right;\n",
       "  font-size: smaller;\n",
       "  line-height: 1em;\n",
       "  font-family: monospace;\n",
       "  background-color: var(--sklearn-color-background);\n",
       "  border-radius: 1em;\n",
       "  height: 1em;\n",
       "  width: 1em;\n",
       "  text-decoration: none !important;\n",
       "  margin-left: 1ex;\n",
       "  /* unfitted */\n",
       "  border: var(--sklearn-color-unfitted-level-1) 1pt solid;\n",
       "  color: var(--sklearn-color-unfitted-level-1);\n",
       "}\n",
       "\n",
       ".sk-estimator-doc-link.fitted,\n",
       "a:link.sk-estimator-doc-link.fitted,\n",
       "a:visited.sk-estimator-doc-link.fitted {\n",
       "  /* fitted */\n",
       "  border: var(--sklearn-color-fitted-level-1) 1pt solid;\n",
       "  color: var(--sklearn-color-fitted-level-1);\n",
       "}\n",
       "\n",
       "/* On hover */\n",
       "div.sk-estimator:hover .sk-estimator-doc-link:hover,\n",
       ".sk-estimator-doc-link:hover,\n",
       "div.sk-label-container:hover .sk-estimator-doc-link:hover,\n",
       ".sk-estimator-doc-link:hover {\n",
       "  /* unfitted */\n",
       "  background-color: var(--sklearn-color-unfitted-level-3);\n",
       "  color: var(--sklearn-color-background);\n",
       "  text-decoration: none;\n",
       "}\n",
       "\n",
       "div.sk-estimator.fitted:hover .sk-estimator-doc-link.fitted:hover,\n",
       ".sk-estimator-doc-link.fitted:hover,\n",
       "div.sk-label-container:hover .sk-estimator-doc-link.fitted:hover,\n",
       ".sk-estimator-doc-link.fitted:hover {\n",
       "  /* fitted */\n",
       "  background-color: var(--sklearn-color-fitted-level-3);\n",
       "  color: var(--sklearn-color-background);\n",
       "  text-decoration: none;\n",
       "}\n",
       "\n",
       "/* Span, style for the box shown on hovering the info icon */\n",
       ".sk-estimator-doc-link span {\n",
       "  display: none;\n",
       "  z-index: 9999;\n",
       "  position: relative;\n",
       "  font-weight: normal;\n",
       "  right: .2ex;\n",
       "  padding: .5ex;\n",
       "  margin: .5ex;\n",
       "  width: min-content;\n",
       "  min-width: 20ex;\n",
       "  max-width: 50ex;\n",
       "  color: var(--sklearn-color-text);\n",
       "  box-shadow: 2pt 2pt 4pt #999;\n",
       "  /* unfitted */\n",
       "  background: var(--sklearn-color-unfitted-level-0);\n",
       "  border: .5pt solid var(--sklearn-color-unfitted-level-3);\n",
       "}\n",
       "\n",
       ".sk-estimator-doc-link.fitted span {\n",
       "  /* fitted */\n",
       "  background: var(--sklearn-color-fitted-level-0);\n",
       "  border: var(--sklearn-color-fitted-level-3);\n",
       "}\n",
       "\n",
       ".sk-estimator-doc-link:hover span {\n",
       "  display: block;\n",
       "}\n",
       "\n",
       "/* \"?\"-specific style due to the `<a>` HTML tag */\n",
       "\n",
       "#sk-container-id-1 a.estimator_doc_link {\n",
       "  float: right;\n",
       "  font-size: 1rem;\n",
       "  line-height: 1em;\n",
       "  font-family: monospace;\n",
       "  background-color: var(--sklearn-color-background);\n",
       "  border-radius: 1rem;\n",
       "  height: 1rem;\n",
       "  width: 1rem;\n",
       "  text-decoration: none;\n",
       "  /* unfitted */\n",
       "  color: var(--sklearn-color-unfitted-level-1);\n",
       "  border: var(--sklearn-color-unfitted-level-1) 1pt solid;\n",
       "}\n",
       "\n",
       "#sk-container-id-1 a.estimator_doc_link.fitted {\n",
       "  /* fitted */\n",
       "  border: var(--sklearn-color-fitted-level-1) 1pt solid;\n",
       "  color: var(--sklearn-color-fitted-level-1);\n",
       "}\n",
       "\n",
       "/* On hover */\n",
       "#sk-container-id-1 a.estimator_doc_link:hover {\n",
       "  /* unfitted */\n",
       "  background-color: var(--sklearn-color-unfitted-level-3);\n",
       "  color: var(--sklearn-color-background);\n",
       "  text-decoration: none;\n",
       "}\n",
       "\n",
       "#sk-container-id-1 a.estimator_doc_link.fitted:hover {\n",
       "  /* fitted */\n",
       "  background-color: var(--sklearn-color-fitted-level-3);\n",
       "}\n",
       "</style><div id=\"sk-container-id-1\" class=\"sk-top-container\"><div class=\"sk-text-repr-fallback\"><pre>LogisticRegression()</pre><b>In a Jupyter environment, please rerun this cell to show the HTML representation or trust the notebook. <br />On GitHub, the HTML representation is unable to render, please try loading this page with nbviewer.org.</b></div><div class=\"sk-container\" hidden><div class=\"sk-item\"><div class=\"sk-estimator fitted sk-toggleable\"><input class=\"sk-toggleable__control sk-hidden--visually\" id=\"sk-estimator-id-1\" type=\"checkbox\" checked><label for=\"sk-estimator-id-1\" class=\"sk-toggleable__label fitted sk-toggleable__label-arrow fitted\">&nbsp;&nbsp;LogisticRegression<a class=\"sk-estimator-doc-link fitted\" rel=\"noreferrer\" target=\"_blank\" href=\"https://scikit-learn.org/1.5/modules/generated/sklearn.linear_model.LogisticRegression.html\">?<span>Documentation for LogisticRegression</span></a><span class=\"sk-estimator-doc-link fitted\">i<span>Fitted</span></span></label><div class=\"sk-toggleable__content fitted\"><pre>LogisticRegression()</pre></div> </div></div></div></div>"
      ],
      "text/plain": [
       "LogisticRegression()"
      ]
     },
     "execution_count": 106,
     "metadata": {},
     "output_type": "execute_result"
    }
   ],
   "source": [
    "lr = LogisticRegression()\n",
    "lr.fit(vectorized_X_train_smote,y_train_smote)"
   ]
  },
  {
   "cell_type": "code",
   "execution_count": 107,
   "id": "7af7485e-f139-4bf1-9b6f-f7dbc0e3aea6",
   "metadata": {},
   "outputs": [],
   "source": [
    "y_train_pred = lr.predict(vectorized_X_train_smote)"
   ]
  },
  {
   "cell_type": "code",
   "execution_count": 111,
   "id": "af6c49b4-3811-47ca-91db-50a8a2702fa1",
   "metadata": {},
   "outputs": [
    {
     "name": "stdout",
     "output_type": "stream",
     "text": [
      "Training Score: \n",
      "\tAccuracy=0.938\n",
      "\tPrecision=0.914\n",
      "\tRecall=0.967\n",
      "\tf1-score=0.94\n",
      "\n"
     ]
    }
   ],
   "source": [
    "training_score(y_train_smote,y_train_pred)"
   ]
  },
  {
   "cell_type": "code",
   "execution_count": 112,
   "id": "539d258b-e2fc-44d6-99e8-52bdd5212fcd",
   "metadata": {},
   "outputs": [],
   "source": [
    "y_test_pred = lr.predict(vectorized_X_test)"
   ]
  },
  {
   "cell_type": "code",
   "execution_count": 113,
   "id": "19532437-ac12-4cb2-b9eb-e24f0433c0cf",
   "metadata": {},
   "outputs": [
    {
     "name": "stdout",
     "output_type": "stream",
     "text": [
      "Training Score: \n",
      "\tAccuracy=0.879\n",
      "\tPrecision=0.723\n",
      "\tRecall=0.86\n",
      "\tf1-score=0.785\n",
      "\n"
     ]
    }
   ],
   "source": [
    "validation_score(y_test,y_test_pred)"
   ]
  },
  {
   "cell_type": "markdown",
   "id": "1a5ff1a4-789d-4f3b-9637-5fa8b246e8df",
   "metadata": {},
   "source": [
    "#### Naive bayes"
   ]
  },
  {
   "cell_type": "code",
   "execution_count": 115,
   "id": "138ff3c8-17a3-4664-b637-ffeefa990003",
   "metadata": {},
   "outputs": [
    {
     "name": "stdout",
     "output_type": "stream",
     "text": [
      "Training Score: \n",
      "\tAccuracy=0.902\n",
      "\tPrecision=0.867\n",
      "\tRecall=0.95\n",
      "\tf1-score=0.907\n",
      "\n",
      "Training Score: \n",
      "\tAccuracy=0.867\n",
      "\tPrecision=0.673\n",
      "\tRecall=0.933\n",
      "\tf1-score=0.782\n",
      "\n"
     ]
    }
   ],
   "source": [
    "nb = MultinomialNB()\n",
    "nb.fit(vectorized_X_train_smote,y_train_smote)\n",
    "\n",
    "#Model Testing \n",
    "\n",
    "y_train_pred = nb.predict(vectorized_X_train_smote)\n",
    "training_score(y_train_smote,y_train_pred)\n",
    "\n",
    "# Model Validation\n",
    "\n",
    "y_test_pred = nb.predict(vectorized_X_test)\n",
    "validation_score(y_test,y_test_pred)"
   ]
  },
  {
   "cell_type": "markdown",
   "id": "b4f212e2-867c-479c-bb7d-9494823be5ee",
   "metadata": {},
   "source": [
    "#### DecisionTreeClassifier"
   ]
  },
  {
   "cell_type": "code",
   "execution_count": 120,
   "id": "b5623bec-6834-44d7-bc3f-e9392f4606ae",
   "metadata": {},
   "outputs": [
    {
     "name": "stdout",
     "output_type": "stream",
     "text": [
      "Training Score: \n",
      "\tAccuracy=1.0\n",
      "\tPrecision=1.0\n",
      "\tRecall=1.0\n",
      "\tf1-score=1.0\n",
      "\n",
      "Training Score: \n",
      "\tAccuracy=0.842\n",
      "\tPrecision=0.693\n",
      "\tRecall=0.685\n",
      "\tf1-score=0.689\n",
      "\n"
     ]
    }
   ],
   "source": [
    "DTC = DecisionTreeClassifier()\n",
    "DTC.fit(vectorized_X_train_smote,y_train_smote)\n",
    "\n",
    "# Model Testing\n",
    "\n",
    "y_train_pred = DTC.predict(vectorized_X_train_smote)\n",
    "training_score(y_train_smote,y_train_pred)\n",
    "\n",
    "#Model Testing\n",
    "\n",
    "y_test_pred = DTC.predict(vectorized_X_test)\n",
    "validation_score(y_test,y_test_pred)"
   ]
  },
  {
   "cell_type": "markdown",
   "id": "401c7700-5801-41b6-a569-6ed02022e246",
   "metadata": {},
   "source": [
    "#### RandomForestClassifier"
   ]
  },
  {
   "cell_type": "code",
   "execution_count": 121,
   "id": "59da667d-d75b-4f1a-b44a-f992e5a7e2a3",
   "metadata": {},
   "outputs": [
    {
     "name": "stdout",
     "output_type": "stream",
     "text": [
      "Training Score: \n",
      "\tAccuracy=1.0\n",
      "\tPrecision=1.0\n",
      "\tRecall=1.0\n",
      "\tf1-score=1.0\n",
      "\n",
      "Training Score: \n",
      "\tAccuracy=0.866\n",
      "\tPrecision=0.747\n",
      "\tRecall=0.722\n",
      "\tf1-score=0.734\n",
      "\n"
     ]
    }
   ],
   "source": [
    "rfc = RandomForestClassifier()\n",
    "rfc.fit(vectorized_X_train_smote,y_train_smote)\n",
    "\n",
    "# Model Testing\n",
    "\n",
    "y_train_pred = rfc.predict(vectorized_X_train_smote)\n",
    "training_score(y_train_smote,y_train_pred)\n",
    "\n",
    "# Model Validation\n",
    "\n",
    "y_test_pred = rfc.predict(vectorized_X_test)\n",
    "validation_score(y_test,y_test_pred)"
   ]
  },
  {
   "cell_type": "markdown",
   "id": "2535a183-504b-472a-957d-4345b358edaa",
   "metadata": {},
   "source": [
    "#### SVM"
   ]
  },
  {
   "cell_type": "code",
   "execution_count": 124,
   "id": "ed13f782-dfdb-42f7-a45b-5b3eb038568b",
   "metadata": {},
   "outputs": [
    {
     "name": "stdout",
     "output_type": "stream",
     "text": [
      "Training Score: \n",
      "\tAccuracy=0.978\n",
      "\tPrecision=0.962\n",
      "\tRecall=0.996\n",
      "\tf1-score=0.979\n",
      "\n",
      "Training Score: \n",
      "\tAccuracy=0.871\n",
      "\tPrecision=0.73\n",
      "\tRecall=0.791\n",
      "\tf1-score=0.759\n",
      "\n"
     ]
    }
   ],
   "source": [
    "svc = SVC()\n",
    "svc.fit(vectorized_X_train_smote,y_train_smote)\n",
    "\n",
    "# Model Testing\n",
    "\n",
    "y_train_pred = svc.predict(vectorized_X_train_smote)\n",
    "training_score(y_train_smote,y_train_pred)\n",
    "\n",
    "#Model Validation\n",
    "\n",
    "y_test_pred = svc.predict(vectorized_X_test)\n",
    "validation_score(y_test,y_test_pred)"
   ]
  },
  {
   "cell_type": "markdown",
   "id": "1eed2e0d-1634-4ecf-abc0-8167a5430582",
   "metadata": {},
   "source": [
    "#### Save Model"
   ]
  },
  {
   "cell_type": "code",
   "execution_count": 127,
   "id": "dca62356-4993-4648-b9eb-16884be9d035",
   "metadata": {},
   "outputs": [],
   "source": [
    "import pickle\n",
    "with open('../Static/Model/model.pickle','wb') as file:\n",
    "    pickle.dump(nb,file)"
   ]
  },
  {
   "cell_type": "code",
   "execution_count": null,
   "id": "f5dd904c-ad7a-40a9-b4dc-49228d95653e",
   "metadata": {},
   "outputs": [],
   "source": []
  }
 ],
 "metadata": {
  "kernelspec": {
   "display_name": "Python 3 (ipykernel)",
   "language": "python",
   "name": "python3"
  },
  "language_info": {
   "codemirror_mode": {
    "name": "ipython",
    "version": 3
   },
   "file_extension": ".py",
   "mimetype": "text/x-python",
   "name": "python",
   "nbconvert_exporter": "python",
   "pygments_lexer": "ipython3",
   "version": "3.12.1"
  }
 },
 "nbformat": 4,
 "nbformat_minor": 5
}
