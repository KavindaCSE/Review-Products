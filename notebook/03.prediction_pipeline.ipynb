{
 "cells": [
  {
   "cell_type": "code",
   "execution_count": 11,
   "id": "2f2e7f00-a9c5-46c0-8e53-426fbe40c1a0",
   "metadata": {},
   "outputs": [],
   "source": [
    "import numpy as np\n",
    "import pandas as pd\n",
    "import re\n",
    "import string\n",
    "import nltk\n",
    "from nltk import PorterStemmer\n",
    "import pickle"
   ]
  },
  {
   "cell_type": "code",
   "execution_count": 12,
   "id": "3028709c-d2c1-496a-bc0f-174558f0eefe",
   "metadata": {},
   "outputs": [],
   "source": [
    "def removePunctuations(text):\n",
    "    for punctuation in string.punctuation:\n",
    "        text = text.replace(punctuation,'')\n",
    "    return text   "
   ]
  },
  {
   "cell_type": "code",
   "execution_count": 13,
   "id": "170937e2-f141-4fbf-a7b3-1ef289092e39",
   "metadata": {},
   "outputs": [],
   "source": [
    "vocab = pd.read_csv('../static/Model/vocabulary.txt',header=None)\n",
    "tokens = vocab[0].tolist()"
   ]
  },
  {
   "cell_type": "code",
   "execution_count": 14,
   "id": "7b2e6f25-f5c0-4b6a-8901-b6ad7dbd3718",
   "metadata": {},
   "outputs": [],
   "source": [
    "with open('../static/Model/corpora/stopwords/english','r') as file:\n",
    "    sw = file.read().splitlines()"
   ]
  },
  {
   "cell_type": "code",
   "execution_count": 15,
   "id": "0e8b92ae-d3e1-48db-9772-b424f2547154",
   "metadata": {},
   "outputs": [],
   "source": [
    "with open('../static/Model/model.pickle','rb') as f:\n",
    "    model = pickle.load(f)"
   ]
  },
  {
   "cell_type": "code",
   "execution_count": 16,
   "id": "87529d39-5d10-4c81-822d-f8badc465472",
   "metadata": {},
   "outputs": [],
   "source": [
    "ps = PorterStemmer()"
   ]
  },
  {
   "cell_type": "code",
   "execution_count": 17,
   "id": "653a5e99-d1cb-4796-9c67-f99667dab7ff",
   "metadata": {},
   "outputs": [],
   "source": [
    "def preprocessing(text):\n",
    "    data = pd.DataFrame([text],columns=['tweet'])\n",
    "    \n",
    "    data[\"tweet\"] = data[\"tweet\"].apply(lambda x:\" \".join(x.lower() for x in x.split()))\n",
    "    data[\"tweet\"] = data[\"tweet\"].apply(lambda x:\" \".join(re.sub(r'^https?:\\/\\/.*[\\r\\n]*','',x,flags=re.MULTILINE) for x in x.split()))\n",
    "    data[\"tweet\"] = data[\"tweet\"].apply(removePunctuations)\n",
    "    data[\"tweet\"] = data[\"tweet\"].str.replace(r'\\d+','',regex=True)\n",
    "    data['tweet'] = data['tweet'].apply(lambda x:\" \".join(x for x in x.split() if x not in sw))\n",
    "    data['tweet'] = data['tweet'].apply(lambda x :' '.join(ps.stem(x) for x in x.split()))\n",
    "\n",
    "    return data['tweet']"
   ]
  },
  {
   "cell_type": "code",
   "execution_count": 18,
   "id": "d9bcf8ba-f69a-4927-8c79-1a1a2652f9e9",
   "metadata": {},
   "outputs": [],
   "source": [
    "def vectorizer(ds,vocabulary):\n",
    "    vectorized_list = []\n",
    "\n",
    "    for sentence in ds :\n",
    "        sentence_list = np.zeros(len(vocabulary))\n",
    "\n",
    "        for i in range(len(vocabulary)):\n",
    "            if vocabulary[i] in sentence.split():\n",
    "                sentence_list[i] = 1\n",
    "\n",
    "        vectorized_list.append(sentence_list)\n",
    "\n",
    "    return np.asarray(vectorized_list,dtype=np.float32)"
   ]
  },
  {
   "cell_type": "code",
   "execution_count": 19,
   "id": "c58be673-5ba0-4ca1-8c97-fa87609e7de2",
   "metadata": {},
   "outputs": [],
   "source": [
    "def predict(text):\n",
    "    result = model.predict(text)\n",
    "    if result == 0 :\n",
    "        print(\"Positive\")\n",
    "    else:\n",
    "        print(\"Negative\")\n"
   ]
  },
  {
   "cell_type": "code",
   "execution_count": 20,
   "id": "0b69354e-358d-4d3b-ae75-87ee5ae276f9",
   "metadata": {},
   "outputs": [
    {
     "name": "stdout",
     "output_type": "stream",
     "text": [
      "Negative\n"
     ]
    }
   ],
   "source": [
    "txt = \"nice one\"\n",
    "preprocessed_txt = preprocessing(txt)\n",
    "vectorized_txt = vectorizer(preprocessed_txt,tokens)\n",
    "predict(vectorized_txt)"
   ]
  },
  {
   "cell_type": "code",
   "execution_count": null,
   "id": "05c540b9-9a4e-466b-adb7-4d8d8c8bd16c",
   "metadata": {},
   "outputs": [],
   "source": []
  }
 ],
 "metadata": {
  "kernelspec": {
   "display_name": "Python 3 (ipykernel)",
   "language": "python",
   "name": "python3"
  },
  "language_info": {
   "codemirror_mode": {
    "name": "ipython",
    "version": 3
   },
   "file_extension": ".py",
   "mimetype": "text/x-python",
   "name": "python",
   "nbconvert_exporter": "python",
   "pygments_lexer": "ipython3",
   "version": "3.12.1"
  }
 },
 "nbformat": 4,
 "nbformat_minor": 5
}
